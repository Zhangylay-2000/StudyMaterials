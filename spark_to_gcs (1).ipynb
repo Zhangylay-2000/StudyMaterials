{
 "cells": [
  {
   "cell_type": "code",
   "execution_count": 15,
   "id": "fae94622-1f24-432d-9604-410d651cf9d7",
   "metadata": {},
   "outputs": [
    {
     "name": "stdout",
     "output_type": "stream",
     "text": [
      "+---+-------+-----------------+---------------+---------+-----------------+--------------+---+------+----------+-------------+\n",
      "|_c0|User ID|Subscription Type|Monthly Revenue|Join Date|Last Payment Date|       Country|Age|Gender|    Device|Plan Duration|\n",
      "+---+-------+-----------------+---------------+---------+-----------------+--------------+---+------+----------+-------------+\n",
      "|  0|      1|            Basic|             10| 15-01-22|         10-06-23| United States| 28|     M|Smartphone|      1 Month|\n",
      "|  1|      2|          Premium|             15| 05-09-21|         22-06-23|        Canada| 35|     F|    Tablet|      1 Month|\n",
      "|  2|      3|         Standard|             12| 28-02-23|         27-06-23|United Kingdom| 42|     M|  Smart TV|      1 Month|\n",
      "|  3|      4|         Standard|             12| 10-07-22|         26-06-23|     Australia| 51|     F|    Laptop|      1 Month|\n",
      "|  4|      5|            Basic|             10| 01-05-23|         28-06-23|       Germany| 33|     M|Smartphone|      1 Month|\n",
      "|  5|      6|          Premium|             15| 18-03-22|         27-06-23|        France| 29|     F|  Smart TV|      1 Month|\n",
      "|  6|      7|         Standard|             12| 09-12-21|         25-06-23|        Brazil| 46|     M|    Tablet|      1 Month|\n",
      "|  7|      8|            Basic|             10| 02-04-23|         24-06-23|        Mexico| 39|     F|    Laptop|      1 Month|\n",
      "|  8|      9|         Standard|             12| 20-10-22|         23-06-23|         Spain| 37|     M|Smartphone|      1 Month|\n",
      "|  9|     10|          Premium|             15| 07-01-23|         22-06-23|         Italy| 44|     F|  Smart TV|      1 Month|\n",
      "| 10|     11|            Basic|             10| 16-05-22|         22-06-23| United States| 31|     F|Smartphone|      1 Month|\n",
      "| 11|     12|          Premium|             15| 23-03-23|         28-06-23|        Canada| 45|     M|    Tablet|      1 Month|\n",
      "| 12|     13|         Standard|             12| 30-11-21|         27-06-23|United Kingdom| 48|     F|    Laptop|      1 Month|\n",
      "| 13|     14|            Basic|             10| 01-08-22|         26-06-23|     Australia| 27|     M|Smartphone|      1 Month|\n",
      "| 14|     15|         Standard|             12| 09-05-23|         28-06-23|       Germany| 38|     F|  Smart TV|      1 Month|\n",
      "| 15|     16|          Premium|             15| 07-04-22|         27-06-23|        France| 36|     M|    Tablet|      1 Month|\n",
      "| 16|     17|            Basic|             10| 24-01-22|         25-06-23|        Brazil| 30|     F|    Laptop|      1 Month|\n",
      "| 17|     18|         Standard|             12| 18-10-21|         24-06-23|        Mexico| 43|     M|Smartphone|      1 Month|\n",
      "| 18|     19|          Premium|             15| 15-02-23|         23-06-23|         Spain| 32|     F|  Smart TV|      1 Month|\n",
      "| 19|     20|            Basic|             10| 27-05-23|         22-06-23|         Italy| 41|     M|    Tablet|      1 Month|\n",
      "+---+-------+-----------------+---------------+---------+-----------------+--------------+---+------+----------+-------------+\n",
      "only showing top 20 rows\n",
      "\n"
     ]
    },
    {
     "ename": "AnalysisException",
     "evalue": "[PATH_ALREADY_EXISTS] Path gs://mage_zoom_zhan/netflix_out already exists. Set mode as \"overwrite\" to overwrite the existing path.",
     "output_type": "error",
     "traceback": [
      "\u001b[1;31m---------------------------------------------------------------------------\u001b[0m",
      "\u001b[1;31mAnalysisException\u001b[0m                         Traceback (most recent call last)",
      "Cell \u001b[1;32mIn[15], line 36\u001b[0m\n\u001b[0;32m     34\u001b[0m \u001b[38;5;28mprint\u001b[39m(df)\n\u001b[0;32m     35\u001b[0m \u001b[38;5;66;03m# Write the DataFrame to a single CSV file in GCS\u001b[39;00m\n\u001b[1;32m---> 36\u001b[0m \u001b[43mdf\u001b[49m\u001b[38;5;241;43m.\u001b[39;49m\u001b[43mwrite\u001b[49m\u001b[38;5;241;43m.\u001b[39;49m\u001b[43mcsv\u001b[49m\u001b[43m(\u001b[49m\u001b[38;5;124;43mf\u001b[39;49m\u001b[38;5;124;43m\"\u001b[39;49m\u001b[38;5;124;43mgs://\u001b[39;49m\u001b[38;5;132;43;01m{\u001b[39;49;00m\u001b[43mbucket_name\u001b[49m\u001b[38;5;132;43;01m}\u001b[39;49;00m\u001b[38;5;124;43m/netflix_out\u001b[39;49m\u001b[38;5;124;43m\"\u001b[39;49m\u001b[43m,\u001b[49m\u001b[43m \u001b[49m\u001b[43mheader\u001b[49m\u001b[38;5;241;43m=\u001b[39;49m\u001b[38;5;28;43;01mTrue\u001b[39;49;00m\u001b[43m)\u001b[49m\n\u001b[0;32m     38\u001b[0m \u001b[38;5;66;03m# Stop SparkSession\u001b[39;00m\n\u001b[0;32m     39\u001b[0m spark\u001b[38;5;241m.\u001b[39mstop()\n",
      "File \u001b[1;32m~\\AppData\\Local\\Programs\\Python\\Python311\\Lib\\site-packages\\pyspark\\sql\\readwriter.py:1864\u001b[0m, in \u001b[0;36mDataFrameWriter.csv\u001b[1;34m(self, path, mode, compression, sep, quote, escape, header, nullValue, escapeQuotes, quoteAll, dateFormat, timestampFormat, ignoreLeadingWhiteSpace, ignoreTrailingWhiteSpace, charToEscapeQuoteEscaping, encoding, emptyValue, lineSep)\u001b[0m\n\u001b[0;32m   1845\u001b[0m \u001b[38;5;28mself\u001b[39m\u001b[38;5;241m.\u001b[39mmode(mode)\n\u001b[0;32m   1846\u001b[0m \u001b[38;5;28mself\u001b[39m\u001b[38;5;241m.\u001b[39m_set_opts(\n\u001b[0;32m   1847\u001b[0m     compression\u001b[38;5;241m=\u001b[39mcompression,\n\u001b[0;32m   1848\u001b[0m     sep\u001b[38;5;241m=\u001b[39msep,\n\u001b[1;32m   (...)\u001b[0m\n\u001b[0;32m   1862\u001b[0m     lineSep\u001b[38;5;241m=\u001b[39mlineSep,\n\u001b[0;32m   1863\u001b[0m )\n\u001b[1;32m-> 1864\u001b[0m \u001b[38;5;28;43mself\u001b[39;49m\u001b[38;5;241;43m.\u001b[39;49m\u001b[43m_jwrite\u001b[49m\u001b[38;5;241;43m.\u001b[39;49m\u001b[43mcsv\u001b[49m\u001b[43m(\u001b[49m\u001b[43mpath\u001b[49m\u001b[43m)\u001b[49m\n",
      "File \u001b[1;32m~\\AppData\\Local\\Programs\\Python\\Python311\\Lib\\site-packages\\py4j\\java_gateway.py:1322\u001b[0m, in \u001b[0;36mJavaMember.__call__\u001b[1;34m(self, *args)\u001b[0m\n\u001b[0;32m   1316\u001b[0m command \u001b[38;5;241m=\u001b[39m proto\u001b[38;5;241m.\u001b[39mCALL_COMMAND_NAME \u001b[38;5;241m+\u001b[39m\\\n\u001b[0;32m   1317\u001b[0m     \u001b[38;5;28mself\u001b[39m\u001b[38;5;241m.\u001b[39mcommand_header \u001b[38;5;241m+\u001b[39m\\\n\u001b[0;32m   1318\u001b[0m     args_command \u001b[38;5;241m+\u001b[39m\\\n\u001b[0;32m   1319\u001b[0m     proto\u001b[38;5;241m.\u001b[39mEND_COMMAND_PART\n\u001b[0;32m   1321\u001b[0m answer \u001b[38;5;241m=\u001b[39m \u001b[38;5;28mself\u001b[39m\u001b[38;5;241m.\u001b[39mgateway_client\u001b[38;5;241m.\u001b[39msend_command(command)\n\u001b[1;32m-> 1322\u001b[0m return_value \u001b[38;5;241m=\u001b[39m \u001b[43mget_return_value\u001b[49m\u001b[43m(\u001b[49m\n\u001b[0;32m   1323\u001b[0m \u001b[43m    \u001b[49m\u001b[43manswer\u001b[49m\u001b[43m,\u001b[49m\u001b[43m \u001b[49m\u001b[38;5;28;43mself\u001b[39;49m\u001b[38;5;241;43m.\u001b[39;49m\u001b[43mgateway_client\u001b[49m\u001b[43m,\u001b[49m\u001b[43m \u001b[49m\u001b[38;5;28;43mself\u001b[39;49m\u001b[38;5;241;43m.\u001b[39;49m\u001b[43mtarget_id\u001b[49m\u001b[43m,\u001b[49m\u001b[43m \u001b[49m\u001b[38;5;28;43mself\u001b[39;49m\u001b[38;5;241;43m.\u001b[39;49m\u001b[43mname\u001b[49m\u001b[43m)\u001b[49m\n\u001b[0;32m   1325\u001b[0m \u001b[38;5;28;01mfor\u001b[39;00m temp_arg \u001b[38;5;129;01min\u001b[39;00m temp_args:\n\u001b[0;32m   1326\u001b[0m     \u001b[38;5;28;01mif\u001b[39;00m \u001b[38;5;28mhasattr\u001b[39m(temp_arg, \u001b[38;5;124m\"\u001b[39m\u001b[38;5;124m_detach\u001b[39m\u001b[38;5;124m\"\u001b[39m):\n",
      "File \u001b[1;32m~\\AppData\\Local\\Programs\\Python\\Python311\\Lib\\site-packages\\pyspark\\errors\\exceptions\\captured.py:185\u001b[0m, in \u001b[0;36mcapture_sql_exception.<locals>.deco\u001b[1;34m(*a, **kw)\u001b[0m\n\u001b[0;32m    181\u001b[0m converted \u001b[38;5;241m=\u001b[39m convert_exception(e\u001b[38;5;241m.\u001b[39mjava_exception)\n\u001b[0;32m    182\u001b[0m \u001b[38;5;28;01mif\u001b[39;00m \u001b[38;5;129;01mnot\u001b[39;00m \u001b[38;5;28misinstance\u001b[39m(converted, UnknownException):\n\u001b[0;32m    183\u001b[0m     \u001b[38;5;66;03m# Hide where the exception came from that shows a non-Pythonic\u001b[39;00m\n\u001b[0;32m    184\u001b[0m     \u001b[38;5;66;03m# JVM exception message.\u001b[39;00m\n\u001b[1;32m--> 185\u001b[0m     \u001b[38;5;28;01mraise\u001b[39;00m converted \u001b[38;5;28;01mfrom\u001b[39;00m \u001b[38;5;28;01mNone\u001b[39;00m\n\u001b[0;32m    186\u001b[0m \u001b[38;5;28;01melse\u001b[39;00m:\n\u001b[0;32m    187\u001b[0m     \u001b[38;5;28;01mraise\u001b[39;00m\n",
      "\u001b[1;31mAnalysisException\u001b[0m: [PATH_ALREADY_EXISTS] Path gs://mage_zoom_zhan/netflix_out already exists. Set mode as \"overwrite\" to overwrite the existing path."
     ]
    }
   ],
   "source": [
    "from pyspark import SparkConf\n",
    "from pyspark.sql import SparkSession\n",
    "from pyspark.sql.functions import split\n",
    "from pyspark.sql.functions import when\n",
    "\n",
    "spark = SparkSession.builder \\\n",
    "    .appName('pyspark-run-with-gcp-bucket') \\\n",
    "    .config(\"spark.jars\", \"https://storage.googleapis.com/hadoop-lib/gcs/gcs-connector-hadoop3-latest.jar\") \\\n",
    "    .config(\"spark.sql.repl.eagerEval.enabled\", True) \\\n",
    "    .getOrCreate()\n",
    "\n",
    "# Set GCS credentials if necessary\n",
    "spark._jsc.hadoopConfiguration().set(\"google.cloud.auth.service.account.json.keyfile\", \"D:/de_projects/de-zoomcamp/01-docker-terraform/2_docker_sql/spark/de-zoomcamp-411813-1aeafde99348.json\")\n",
    "\n",
    "\n",
    "# Define GCS bucket and file path\n",
    "bucket_name = \"mage_zoom_zhan\"\n",
    "file_name = \"netflix_data.csv\"\n",
    "file_path = f\"gs://{bucket_name}/{file_name}\"\n",
    "\n",
    "#split_column = \"Plan_Duration\"\n",
    "#split_by = \" \"\n",
    "#new_columns = [\"month number\", \"month\"]\n",
    "\n",
    "# Read CSV file from GCS into DataFrame\n",
    "df = spark.read.csv(file_path, header=True, inferSchema=True)\n",
    "df = df.withColumn(\"Gender\", when(df[\"Gender\"] == \"Female\", \"F\").otherwise(when(df[\"Gender\"] == \"Male\", \"M\").otherwise(df[\"Gender\"])))\n",
    "\n",
    "# Replace 'Female' with 'F' and 'Male' with 'M' in the Gender column\n",
    "#df['Gender'].replace('Female', '1', inplace=True)\n",
    "\n",
    "# Coalesce the DataFrame to a single partition\n",
    "df = df.coalesce(1)\n",
    "print(df)\n",
    "# Write the DataFrame to a single CSV file in GCS\n",
    "df.write.csv(f\"gs://{bucket_name}/netflix_out\", header=True)\n",
    "\n",
    "# Stop SparkSession\n",
    "spark.stop()"
   ]
  }
 ],
 "metadata": {
  "kernelspec": {
   "display_name": "Python 3 (ipykernel)",
   "language": "python",
   "name": "python3"
  },
  "language_info": {
   "codemirror_mode": {
    "name": "ipython",
    "version": 3
   },
   "file_extension": ".py",
   "mimetype": "text/x-python",
   "name": "python",
   "nbconvert_exporter": "python",
   "pygments_lexer": "ipython3",
   "version": "3.11.8"
  }
 },
 "nbformat": 4,
 "nbformat_minor": 5
}
